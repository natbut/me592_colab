{
  "cells": [
    {
      "cell_type": "markdown",
      "metadata": {
        "id": "view-in-github",
        "colab_type": "text"
      },
      "source": [
        "<a href=\"https://colab.research.google.com/github/natbut/me592_colab/blob/main/Assn01_NButler.ipynb\" target=\"_parent\"><img src=\"https://colab.research.google.com/assets/colab-badge.svg\" alt=\"Open In Colab\"/></a>"
      ]
    },
    {
      "cell_type": "markdown",
      "id": "6f76940e-84d3-460a-961a-93c8bfcee1ef",
      "metadata": {
        "id": "6f76940e-84d3-460a-961a-93c8bfcee1ef"
      },
      "source": [
        "# Text\n",
        "More text but smaller"
      ]
    },
    {
      "cell_type": "markdown",
      "id": "d539f046-1d1c-4005-bfcf-3069b8718bc3",
      "metadata": {
        "id": "d539f046-1d1c-4005-bfcf-3069b8718bc3"
      },
      "source": [
        "# Task 1: Images"
      ]
    },
    {
      "cell_type": "code",
      "execution_count": 1,
      "id": "601b94e9-046d-44e4-b848-8989373038f1",
      "metadata": {
        "colab": {
          "base_uri": "https://localhost:8080/",
          "height": 373
        },
        "id": "601b94e9-046d-44e4-b848-8989373038f1",
        "outputId": "00002bb9-1894-4934-ed7b-cc3fc302be3a"
      },
      "outputs": [
        {
          "output_type": "error",
          "ename": "ModuleNotFoundError",
          "evalue": "ignored",
          "traceback": [
            "\u001b[0;31m---------------------------------------------------------------------------\u001b[0m",
            "\u001b[0;31mModuleNotFoundError\u001b[0m                       Traceback (most recent call last)",
            "\u001b[0;32m<ipython-input-1-960cf58b078e>\u001b[0m in \u001b[0;36m<module>\u001b[0;34m\u001b[0m\n\u001b[1;32m      1\u001b[0m \u001b[0;32mimport\u001b[0m \u001b[0mnumpy\u001b[0m \u001b[0;32mas\u001b[0m \u001b[0mnp\u001b[0m\u001b[0;34m\u001b[0m\u001b[0;34m\u001b[0m\u001b[0m\n\u001b[1;32m      2\u001b[0m \u001b[0;32mimport\u001b[0m \u001b[0mmatplotlib\u001b[0m\u001b[0;34m.\u001b[0m\u001b[0mpyplot\u001b[0m \u001b[0;32mas\u001b[0m \u001b[0mplt\u001b[0m\u001b[0;34m\u001b[0m\u001b[0;34m\u001b[0m\u001b[0m\n\u001b[0;32m----> 3\u001b[0;31m \u001b[0;32mimport\u001b[0m \u001b[0meinops\u001b[0m\u001b[0;34m\u001b[0m\u001b[0;34m\u001b[0m\u001b[0m\n\u001b[0m\u001b[1;32m      4\u001b[0m \u001b[0;32mfrom\u001b[0m \u001b[0meinops\u001b[0m \u001b[0;32mimport\u001b[0m \u001b[0mrearrange\u001b[0m\u001b[0;34m,\u001b[0m \u001b[0mrepeat\u001b[0m\u001b[0;34m\u001b[0m\u001b[0;34m\u001b[0m\u001b[0m\n\u001b[1;32m      5\u001b[0m \u001b[0;34m\u001b[0m\u001b[0m\n",
            "\u001b[0;31mModuleNotFoundError\u001b[0m: No module named 'einops'",
            "",
            "\u001b[0;31m---------------------------------------------------------------------------\u001b[0;32m\nNOTE: If your import is failing due to a missing package, you can\nmanually install dependencies using either !pip or !apt.\n\nTo view examples of installing some common dependencies, click the\n\"Open Examples\" button below.\n\u001b[0;31m---------------------------------------------------------------------------\u001b[0m\n"
          ],
          "errorDetails": {
            "actions": [
              {
                "action": "open_url",
                "actionText": "Open Examples",
                "url": "/notebooks/snippets/importing_libraries.ipynb"
              }
            ]
          }
        }
      ],
      "source": [
        "import numpy as np\n",
        "import matplotlib.pyplot as plt\n",
        "import einops\n",
        "from einops import rearrange, repeat\n",
        "\n",
        "import math"
      ]
    },
    {
      "cell_type": "markdown",
      "id": "ea49cd2e-906c-4f72-9911-a697277b716b",
      "metadata": {
        "id": "ea49cd2e-906c-4f72-9911-a697277b716b"
      },
      "source": [
        "1) Download the MNIST dataset using the torchvision library and create a subset\n",
        "of the dataset containing 1,000 samples. Each sample will include a 28 x 28 pixel\n",
        "image, along with a single integer value denoting the sample's respective class (number)."
      ]
    },
    {
      "cell_type": "code",
      "execution_count": null,
      "id": "a58b8583-a51c-4873-9550-da54c5a8cab5",
      "metadata": {
        "id": "a58b8583-a51c-4873-9550-da54c5a8cab5"
      },
      "outputs": [],
      "source": [
        "#download and load data\n",
        "from torchvision import datasets\n",
        "mnist = datasets.MNIST('./data', train=True, download=False) #download should be True for first-time download\n",
        "\n",
        "mnist = mnist._load_data()"
      ]
    },
    {
      "cell_type": "code",
      "execution_count": null,
      "id": "04412715-be44-435b-8c0d-72f073a836cd",
      "metadata": {
        "id": "04412715-be44-435b-8c0d-72f073a836cd"
      },
      "outputs": [],
      "source": [
        "#select subset of images and labels\n",
        "(images, labels) = mnist\n",
        "print(images.shape, labels.shape)\n",
        "\n",
        "imgs = images[:1000]\n",
        "lbls = labels[:1000]\n",
        "\n",
        "print(imgs.shape, lbls.shape)"
      ]
    },
    {
      "cell_type": "markdown",
      "id": "f3ef5082-705e-458b-aa5f-a13a79b3f414",
      "metadata": {
        "id": "f3ef5082-705e-458b-aa5f-a13a79b3f414"
      },
      "source": [
        "2) Plot a histogram of classes in your subset of MNIST."
      ]
    },
    {
      "cell_type": "code",
      "execution_count": null,
      "id": "eae3a0a4-9ecd-4277-83b9-b505d04e8d76",
      "metadata": {
        "id": "eae3a0a4-9ecd-4277-83b9-b505d04e8d76"
      },
      "outputs": [],
      "source": [
        "import matplotlib.pyplot as plt\n",
        "\n",
        "bins=np.arange(11)-0.5\n",
        "plt.hist(lbls, bins, edgecolor='white', alpha=0.75)\n",
        "\n",
        "plt.xlabel('Values')\n",
        "plt.ylabel('Frequency')\n",
        "plt.title('Histogram of Classes in MNIST Subset')\n",
        "plt.xticks(range(10))\n",
        "\n",
        "plt.show()"
      ]
    },
    {
      "cell_type": "markdown",
      "id": "dc0099bd-9dfe-498d-858f-6b7236b3393c",
      "metadata": {
        "id": "dc0099bd-9dfe-498d-858f-6b7236b3393c"
      },
      "source": [
        "3) Use the einops python package to batch the subset of MNIST images. Each\n",
        "batch should contain 25 different samples."
      ]
    },
    {
      "cell_type": "code",
      "execution_count": null,
      "id": "ae9828e7-589d-474c-80ef-72127fcfaec3",
      "metadata": {
        "id": "ae9828e7-589d-474c-80ef-72127fcfaec3"
      },
      "outputs": [],
      "source": [
        "#Batching into 40 sets of 25 images\n",
        "print(imgs.shape)\n",
        "\n",
        "batched_imgs = einops.rearrange(imgs, '(n s) h w -> n s 1 h w', s=25)\n",
        "print(batched_imgs.shape)\n"
      ]
    },
    {
      "cell_type": "markdown",
      "id": "cebe25fc-fb2d-45e5-9b0e-5886bdf3aab4",
      "metadata": {
        "id": "cebe25fc-fb2d-45e5-9b0e-5886bdf3aab4"
      },
      "source": [
        "4) Randomly select an MNIST image sample and, using matplotlib, plot it in three\n",
        "dimensions. The x and y-axis should be the respective pixel locations, and the\n",
        "z-axis should be the pixel intensity."
      ]
    },
    {
      "cell_type": "code",
      "execution_count": null,
      "id": "b83f2cac-a153-4996-b81e-82b6ca3d1918",
      "metadata": {
        "id": "b83f2cac-a153-4996-b81e-82b6ca3d1918"
      },
      "outputs": [],
      "source": [
        "from mpl_toolkits.mplot3d import Axes3D\n",
        "\n",
        "#select batch & image from batch\n",
        "bat = np.random.randint(0,len(batched_imgs))\n",
        "batch = batched_imgs[bat]\n",
        "idx = np.random.randint(0, len(batch))\n",
        "img = batch[idx]\n",
        "print('Plotting image at idx', idx, 'from batch', bat)\n",
        "\n",
        "#for fun, show 2D image selected\n",
        "plt.imshow(img[0])\n",
        "plt.show()\n",
        "\n",
        "#set up array of the pixel locations\n",
        "x, y = np.meshgrid(range(28), range(28))\n",
        "\n",
        "#prepare plot\n",
        "fig = plt.figure()\n",
        "ax = fig.add_subplot(111, projection='3d')\n",
        "fig.set_size_inches(10,10)\n",
        "\n",
        "#plot image, x & y reversed to orient correctly\n",
        "ax.plot_surface(y, x, img[0], cmap='viridis')\n",
        "ax.view_init(60,35)\n",
        "plt.show()"
      ]
    },
    {
      "cell_type": "markdown",
      "id": "fc3d205b-de9a-4691-8a47-d44a1ebf7f15",
      "metadata": {
        "id": "fc3d205b-de9a-4691-8a47-d44a1ebf7f15"
      },
      "source": [
        "# Task 2: Time Series"
      ]
    },
    {
      "cell_type": "markdown",
      "id": "ac8b282a-e2dd-43a1-b12c-c32422c893ad",
      "metadata": {
        "id": "ac8b282a-e2dd-43a1-b12c-c32422c893ad"
      },
      "source": [
        "Load the data"
      ]
    },
    {
      "cell_type": "code",
      "execution_count": null,
      "id": "a15be1f2-2b1b-4444-9590-bf94b82fd141",
      "metadata": {
        "id": "a15be1f2-2b1b-4444-9590-bf94b82fd141"
      },
      "outputs": [],
      "source": [
        "import pandas as pd\n",
        "\n",
        "df = pd.read_csv(r'data/energydata_complete.csv', index_col=0, parse_dates=True)"
      ]
    },
    {
      "cell_type": "markdown",
      "id": "5a2e5653-69f2-478b-8715-bf8290011bd4",
      "metadata": {
        "id": "5a2e5653-69f2-478b-8715-bf8290011bd4"
      },
      "source": [
        "1. Plot the appliances energy consumption for whole period and a closer look at any one week of consumption."
      ]
    },
    {
      "cell_type": "code",
      "execution_count": null,
      "id": "b37ac4a8-4839-4516-8f57-586c6ff4360f",
      "metadata": {
        "id": "b37ac4a8-4839-4516-8f57-586c6ff4360f"
      },
      "outputs": [],
      "source": [
        "#whole period\n",
        "print('Energy Consumption for Whole Period')\n",
        "plt.figure(figsize=(10,6))\n",
        "df['Appliances'].plot()\n",
        "plt.xlabel('Date')\n",
        "plt.ylabel('Appliances Energy')\n",
        "plt.title('Appliance Energy Consumption Over Whole Period')\n",
        "plt.show()\n",
        "\n",
        "\n",
        "#One Week\n",
        "print('\\nEnergy Consumption for Week of 01/12/2016-01/18/2016')\n",
        "plt.figure(figsize=(10,6))\n",
        "week_subset = df['2016-01-12':'2016-01-19']\n",
        "week_subset['Appliances'].plot()\n",
        "plt.xlabel('Date')\n",
        "plt.ylabel('Appliances Energy')\n",
        "plt.title('Appliance Energy Consumption Over Week of 01/12/2016-01/18/2016')\n",
        "plt.show()"
      ]
    },
    {
      "cell_type": "markdown",
      "id": "2018fe62-1973-4812-9ada-04bde53cdd02",
      "metadata": {
        "id": "2018fe62-1973-4812-9ada-04bde53cdd02"
      },
      "source": [
        "2. Plot heatmap of hourly consumption of appliances for a week. An example heatmap looks like Figure 1."
      ]
    },
    {
      "cell_type": "code",
      "execution_count": null,
      "id": "c2e89b84-0062-4825-b778-7759c4b2aa61",
      "metadata": {
        "id": "c2e89b84-0062-4825-b778-7759c4b2aa61"
      },
      "outputs": [],
      "source": [
        "#seaborn setup for \"easy\" heatmapping\n",
        "\n",
        "!pip install seaborn"
      ]
    },
    {
      "cell_type": "code",
      "execution_count": null,
      "id": "02c49923-6fa8-45cd-969b-3fa666d42966",
      "metadata": {
        "id": "02c49923-6fa8-45cd-969b-3fa666d42966"
      },
      "outputs": [],
      "source": [
        "import seaborn as sns\n",
        "\n",
        "energy_data = np.empty((7, 24, 1))\n",
        "\n",
        "for i in range(7):\n",
        "    for j in range(24):\n",
        "        sum1 = 0\n",
        "        for k in range(5):\n",
        "            sum1 += dApp[(i * 24 + j) * 5 + k]\n",
        "        energy_data[i, j, 0] = sum1\n",
        "\n",
        "energy_data_r = energy_data.reshape(7, 24)\n",
        "energy_data_t = energy_data_r.T\n",
        "\n",
        "plt.figure(figsize=(10, 8))\n",
        "\n",
        "ax = sns.heatmap(energy_data_t, cmap='YlGnBu', cbar_kws={'label': 'Energy'})\n",
        "ax.set_yticks(np.arange(0.5, 24.5, step=1))\n",
        "ax.set_yticklabels(['{:02d}:00'.format(i) for i in range(24)], rotation=0)\n",
        "\n",
        "ax.set_xticklabels(['Mon', 'Tue', 'Wed', 'Thu', 'Fri', 'Sat', 'Sun'])\n",
        "plt.title('Energy Consumption by Hour and Day of the Week')\n",
        "plt.xlabel('Day of the Week')\n",
        "plt.ylabel('Hour of the Day')\n",
        "\n",
        "plt.show()\n"
      ]
    },
    {
      "cell_type": "code",
      "execution_count": null,
      "id": "f47143de-ba5d-489e-a514-52df10524218",
      "metadata": {
        "id": "f47143de-ba5d-489e-a514-52df10524218"
      },
      "outputs": [],
      "source": [
        "#testing/getting info about how to handle this\n",
        "\n",
        "print(week_subset['Appliances'][10])\n",
        "print(week_subset.index[10])\n",
        "print(week_subset.index[10].hour)\n",
        "\n",
        "#week_subset.style.background_gradient(cmap='Blues')\n",
        "#week_subset.head()\n",
        "plt.figure(figsize=(10,6))\n",
        "plt.pcolor(week_subset)\n",
        "plt.yticks(np.arange(0.5, len(week_subset.index), 1), week_subset.index)\n",
        "plt.xticks(np.arange(0.5, len(week_subset.columns), 1), week_subset.columns)\n",
        "plt.show()\n",
        "\n",
        "\n"
      ]
    },
    {
      "cell_type": "markdown",
      "id": "3112521e-35ae-4d66-9a5e-e9f6e32f1607",
      "metadata": {
        "id": "3112521e-35ae-4d66-9a5e-e9f6e32f1607"
      },
      "source": [
        "3. Plot the histogram of energy consumption of appliances."
      ]
    },
    {
      "cell_type": "code",
      "execution_count": null,
      "id": "c343082e-da19-4ea5-8a16-3cbb63af1c7e",
      "metadata": {
        "id": "c343082e-da19-4ea5-8a16-3cbb63af1c7e"
      },
      "outputs": [],
      "source": [
        "apps = df[\"Appliances\"].tolist()\n",
        "\n",
        "plt.hist(apps, 15, edgecolor='white', alpha=0.75)\n",
        "\n",
        "plt.xlabel('Energy')\n",
        "plt.ylabel('Frequency of Consumption')\n",
        "plt.title('Typical Energy Consumption by Appliance')\n",
        "\n",
        "plt.show()"
      ]
    },
    {
      "cell_type": "code",
      "execution_count": null,
      "id": "984826ac-ec44-4f9a-8b73-b69432bb09b1",
      "metadata": {
        "id": "984826ac-ec44-4f9a-8b73-b69432bb09b1"
      },
      "outputs": [],
      "source": []
    }
  ],
  "metadata": {
    "kernelspec": {
      "display_name": "me592",
      "language": "python",
      "name": "me592"
    },
    "language_info": {
      "codemirror_mode": {
        "name": "ipython",
        "version": 3
      },
      "file_extension": ".py",
      "mimetype": "text/x-python",
      "name": "python",
      "nbconvert_exporter": "python",
      "pygments_lexer": "ipython3",
      "version": "3.10.4"
    },
    "colab": {
      "provenance": [],
      "include_colab_link": true
    }
  },
  "nbformat": 4,
  "nbformat_minor": 5
}